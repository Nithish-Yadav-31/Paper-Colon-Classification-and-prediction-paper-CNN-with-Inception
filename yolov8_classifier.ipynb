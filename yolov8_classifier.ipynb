{
 "cells": [
  {
   "cell_type": "code",
   "execution_count": 1,
   "id": "3cf27008-6155-4b7f-ba72-f2186c6f8527",
   "metadata": {
    "execution": {
     "iopub.execute_input": "2024-02-10T03:49:16.826996Z",
     "iopub.status.busy": "2024-02-10T03:49:16.826561Z",
     "iopub.status.idle": "2024-02-10T03:49:34.994340Z",
     "shell.execute_reply": "2024-02-10T03:49:34.993462Z",
     "shell.execute_reply.started": "2024-02-10T03:49:16.826959Z"
    }
   },
   "outputs": [
    {
     "name": "stdout",
     "output_type": "stream",
     "text": [
      "Collecting yolov5\n",
      "  Downloading yolov5-7.0.13-py37.py38.py39.py310-none-any.whl (953 kB)\n",
      "\u001b[2K     \u001b[90m━━━━━━━━━━━━━━━━━━━━━━━━━━━━━━━━━━━━━━\u001b[0m \u001b[32m953.4/953.4 kB\u001b[0m \u001b[31m31.8 MB/s\u001b[0m eta \u001b[36m0:00:00\u001b[0m\n",
      "\u001b[?25hRequirement already satisfied: torchvision>=0.8.1 in /usr/local/lib/python3.9/dist-packages (from yolov5) (0.13.1+cu116)\n",
      "Requirement already satisfied: opencv-python>=4.1.1 in /usr/local/lib/python3.9/dist-packages (from yolov5) (4.6.0.66)\n",
      "Requirement already satisfied: tensorboard>=2.4.1 in /usr/local/lib/python3.9/dist-packages (from yolov5) (2.9.1)\n",
      "Requirement already satisfied: pandas>=1.1.4 in /usr/local/lib/python3.9/dist-packages (from yolov5) (1.5.0)\n",
      "Collecting fire\n",
      "  Downloading fire-0.5.0.tar.gz (88 kB)\n",
      "\u001b[2K     \u001b[90m━━━━━━━━━━━━━━━━━━━━━━━━━━━━━━━━━━━━━━━━\u001b[0m \u001b[32m88.3/88.3 kB\u001b[0m \u001b[31m20.3 MB/s\u001b[0m eta \u001b[36m0:00:00\u001b[0m\n",
      "\u001b[?25h  Preparing metadata (setup.py) ... \u001b[?25ldone\n",
      "\u001b[?25hRequirement already satisfied: scipy>=1.4.1 in /usr/local/lib/python3.9/dist-packages (from yolov5) (1.9.2)\n",
      "Collecting ultralytics>=8.0.100\n",
      "  Downloading ultralytics-8.1.11-py3-none-any.whl (709 kB)\n",
      "\u001b[2K     \u001b[90m━━━━━━━━━━━━━━━━━━━━━━━━━━━━━━━━━━━━━━\u001b[0m \u001b[32m709.5/709.5 kB\u001b[0m \u001b[31m50.2 MB/s\u001b[0m eta \u001b[36m0:00:00\u001b[0m\n",
      "\u001b[?25hRequirement already satisfied: boto3>=1.19.1 in /usr/local/lib/python3.9/dist-packages (from yolov5) (1.24.90)\n",
      "Requirement already satisfied: psutil in /usr/local/lib/python3.9/dist-packages (from yolov5) (5.9.4)\n",
      "Collecting sahi>=0.11.10\n",
      "  Downloading sahi-0.11.15-py3-none-any.whl (105 kB)\n",
      "\u001b[2K     \u001b[90m━━━━━━━━━━━━━━━━━━━━━━━━━━━━━━━━━━━━━━\u001b[0m \u001b[32m105.4/105.4 kB\u001b[0m \u001b[31m24.3 MB/s\u001b[0m eta \u001b[36m0:00:00\u001b[0m\n",
      "\u001b[?25hRequirement already satisfied: gitpython>=3.1.30 in /usr/local/lib/python3.9/dist-packages (from yolov5) (3.1.30)\n",
      "Requirement already satisfied: PyYAML>=5.3.1 in /usr/local/lib/python3.9/dist-packages (from yolov5) (5.4.1)\n",
      "Requirement already satisfied: numpy>=1.18.5 in /usr/local/lib/python3.9/dist-packages (from yolov5) (1.23.4)\n",
      "Collecting thop>=0.1.1\n",
      "  Downloading thop-0.1.1.post2209072238-py3-none-any.whl (15 kB)\n",
      "Requirement already satisfied: seaborn>=0.11.0 in /usr/local/lib/python3.9/dist-packages (from yolov5) (0.12.0)\n",
      "Requirement already satisfied: torch>=1.7.0 in /usr/local/lib/python3.9/dist-packages (from yolov5) (1.12.1+cu116)\n",
      "Requirement already satisfied: tqdm>=4.64.0 in /usr/local/lib/python3.9/dist-packages (from yolov5) (4.64.1)\n",
      "Requirement already satisfied: Pillow>=7.1.2 in /usr/local/lib/python3.9/dist-packages (from yolov5) (9.2.0)\n",
      "Requirement already satisfied: huggingface-hub>=0.12.0 in /usr/local/lib/python3.9/dist-packages (from yolov5) (0.12.0)\n",
      "Requirement already satisfied: requests>=2.23.0 in /usr/local/lib/python3.9/dist-packages (from yolov5) (2.28.2)\n",
      "Collecting roboflow>=0.2.29\n",
      "  Downloading roboflow-1.1.19-py3-none-any.whl (70 kB)\n",
      "\u001b[2K     \u001b[90m━━━━━━━━━━━━━━━━━━━━━━━━━━━━━━━━━━━━━━━━\u001b[0m \u001b[32m70.2/70.2 kB\u001b[0m \u001b[31m17.7 MB/s\u001b[0m eta \u001b[36m0:00:00\u001b[0m\n",
      "\u001b[?25hRequirement already satisfied: matplotlib>=3.3 in /usr/local/lib/python3.9/dist-packages (from yolov5) (3.6.1)\n",
      "Requirement already satisfied: setuptools>=65.5.1 in /usr/local/lib/python3.9/dist-packages (from yolov5) (66.1.1)\n",
      "Requirement already satisfied: botocore<1.28.0,>=1.27.90 in /usr/local/lib/python3.9/dist-packages (from boto3>=1.19.1->yolov5) (1.27.90)\n",
      "Requirement already satisfied: jmespath<2.0.0,>=0.7.1 in /usr/local/lib/python3.9/dist-packages (from boto3>=1.19.1->yolov5) (1.0.1)\n",
      "Requirement already satisfied: s3transfer<0.7.0,>=0.6.0 in /usr/local/lib/python3.9/dist-packages (from boto3>=1.19.1->yolov5) (0.6.0)\n",
      "Requirement already satisfied: gitdb<5,>=4.0.1 in /usr/local/lib/python3.9/dist-packages (from gitpython>=3.1.30->yolov5) (4.0.10)\n",
      "Requirement already satisfied: typing-extensions>=3.7.4.3 in /usr/local/lib/python3.9/dist-packages (from huggingface-hub>=0.12.0->yolov5) (4.4.0)\n",
      "Requirement already satisfied: filelock in /usr/local/lib/python3.9/dist-packages (from huggingface-hub>=0.12.0->yolov5) (3.9.0)\n",
      "Requirement already satisfied: packaging>=20.9 in /usr/local/lib/python3.9/dist-packages (from huggingface-hub>=0.12.0->yolov5) (23.0)\n",
      "Requirement already satisfied: contourpy>=1.0.1 in /usr/local/lib/python3.9/dist-packages (from matplotlib>=3.3->yolov5) (1.0.7)\n",
      "Requirement already satisfied: fonttools>=4.22.0 in /usr/local/lib/python3.9/dist-packages (from matplotlib>=3.3->yolov5) (4.38.0)\n",
      "Requirement already satisfied: python-dateutil>=2.7 in /usr/local/lib/python3.9/dist-packages (from matplotlib>=3.3->yolov5) (2.8.2)\n",
      "Requirement already satisfied: kiwisolver>=1.0.1 in /usr/local/lib/python3.9/dist-packages (from matplotlib>=3.3->yolov5) (1.4.4)\n",
      "Requirement already satisfied: pyparsing>=2.2.1 in /usr/local/lib/python3.9/dist-packages (from matplotlib>=3.3->yolov5) (3.0.9)\n",
      "Requirement already satisfied: cycler>=0.10 in /usr/local/lib/python3.9/dist-packages (from matplotlib>=3.3->yolov5) (0.11.0)\n",
      "Requirement already satisfied: pytz>=2020.1 in /usr/local/lib/python3.9/dist-packages (from pandas>=1.1.4->yolov5) (2022.7.1)\n",
      "Requirement already satisfied: urllib3<1.27,>=1.21.1 in /usr/local/lib/python3.9/dist-packages (from requests>=2.23.0->yolov5) (1.26.14)\n",
      "Requirement already satisfied: charset-normalizer<4,>=2 in /usr/local/lib/python3.9/dist-packages (from requests>=2.23.0->yolov5) (2.1.1)\n",
      "Requirement already satisfied: certifi>=2017.4.17 in /usr/lib/python3/dist-packages (from requests>=2.23.0->yolov5) (2019.11.28)\n",
      "Requirement already satisfied: idna<4,>=2.5 in /usr/lib/python3/dist-packages (from requests>=2.23.0->yolov5) (2.8)\n",
      "Collecting certifi>=2017.4.17\n",
      "  Downloading certifi-2023.7.22-py3-none-any.whl (158 kB)\n",
      "\u001b[2K     \u001b[90m━━━━━━━━━━━━━━━━━━━━━━━━━━━━━━━━━━━━━━\u001b[0m \u001b[32m158.3/158.3 kB\u001b[0m \u001b[31m27.6 MB/s\u001b[0m eta \u001b[36m0:00:00\u001b[0m\n",
      "\u001b[?25hCollecting python-magic\n",
      "  Downloading python_magic-0.4.27-py2.py3-none-any.whl (13 kB)\n",
      "Requirement already satisfied: six in /usr/lib/python3/dist-packages (from roboflow>=0.2.29->yolov5) (1.14.0)\n",
      "Collecting supervision\n",
      "  Downloading supervision-0.18.0-py3-none-any.whl (86 kB)\n",
      "\u001b[2K     \u001b[90m━━━━━━━━━━━━━━━━━━━━━━━━━━━━━━━━━━━━━━━━\u001b[0m \u001b[32m86.7/86.7 kB\u001b[0m \u001b[31m20.3 MB/s\u001b[0m eta \u001b[36m0:00:00\u001b[0m\n",
      "\u001b[?25hCollecting cycler>=0.10\n",
      "  Downloading cycler-0.10.0-py2.py3-none-any.whl (6.5 kB)\n",
      "Collecting chardet==4.0.0\n",
      "  Downloading chardet-4.0.0-py2.py3-none-any.whl (178 kB)\n",
      "\u001b[2K     \u001b[90m━━━━━━━━━━━━━━━━━━━━━━━━━━━━━━━━━━━━━━\u001b[0m \u001b[32m178.7/178.7 kB\u001b[0m \u001b[31m35.9 MB/s\u001b[0m eta \u001b[36m0:00:00\u001b[0m\n",
      "\u001b[?25hRequirement already satisfied: requests-toolbelt in /usr/local/lib/python3.9/dist-packages (from roboflow>=0.2.29->yolov5) (0.10.1)\n",
      "Collecting opencv-python-headless==4.8.0.74\n",
      "  Downloading opencv_python_headless-4.8.0.74-cp37-abi3-manylinux_2_17_x86_64.manylinux2014_x86_64.whl (49.1 MB)\n",
      "\u001b[2K     \u001b[90m━━━━━━━━━━━━━━━━━━━━━━━━━━━━━━━━━━━━━━━━\u001b[0m \u001b[32m49.1/49.1 MB\u001b[0m \u001b[31m28.7 MB/s\u001b[0m eta \u001b[36m0:00:00\u001b[0m00:01\u001b[0m00:01\u001b[0m\n",
      "\u001b[?25hCollecting idna<4,>=2.5\n",
      "  Downloading idna-2.10-py2.py3-none-any.whl (58 kB)\n",
      "\u001b[2K     \u001b[90m━━━━━━━━━━━━━━━━━━━━━━━━━━━━━━━━━━━━━━━━\u001b[0m \u001b[32m58.8/58.8 kB\u001b[0m \u001b[31m16.2 MB/s\u001b[0m eta \u001b[36m0:00:00\u001b[0m\n",
      "\u001b[?25hCollecting python-dotenv\n",
      "  Downloading python_dotenv-1.0.1-py3-none-any.whl (19 kB)\n",
      "Collecting shapely>=1.8.0\n",
      "  Downloading shapely-2.0.2-cp39-cp39-manylinux_2_17_x86_64.manylinux2014_x86_64.whl (2.5 MB)\n",
      "\u001b[2K     \u001b[90m━━━━━━━━━━━━━━━━━━━━━━━━━━━━━━━━━━━━━━━━\u001b[0m \u001b[32m2.5/2.5 MB\u001b[0m \u001b[31m67.6 MB/s\u001b[0m eta \u001b[36m0:00:00\u001b[0m:00:01\u001b[0m\n",
      "\u001b[?25hCollecting pybboxes==0.1.6\n",
      "  Downloading pybboxes-0.1.6-py3-none-any.whl (24 kB)\n",
      "Requirement already satisfied: click in /usr/local/lib/python3.9/dist-packages (from sahi>=0.11.10->yolov5) (8.1.3)\n",
      "Requirement already satisfied: terminaltables in /usr/local/lib/python3.9/dist-packages (from sahi>=0.11.10->yolov5) (3.1.10)\n",
      "Requirement already satisfied: google-auth<3,>=1.6.3 in /usr/local/lib/python3.9/dist-packages (from tensorboard>=2.4.1->yolov5) (2.16.0)\n",
      "Requirement already satisfied: werkzeug>=1.0.1 in /usr/local/lib/python3.9/dist-packages (from tensorboard>=2.4.1->yolov5) (2.2.2)\n",
      "Requirement already satisfied: wheel>=0.26 in /usr/local/lib/python3.9/dist-packages (from tensorboard>=2.4.1->yolov5) (0.35.1)\n",
      "Requirement already satisfied: grpcio>=1.24.3 in /usr/local/lib/python3.9/dist-packages (from tensorboard>=2.4.1->yolov5) (1.51.1)\n",
      "Requirement already satisfied: absl-py>=0.4 in /usr/local/lib/python3.9/dist-packages (from tensorboard>=2.4.1->yolov5) (1.4.0)\n",
      "Requirement already satisfied: tensorboard-data-server<0.7.0,>=0.6.0 in /usr/local/lib/python3.9/dist-packages (from tensorboard>=2.4.1->yolov5) (0.6.1)\n",
      "Requirement already satisfied: tensorboard-plugin-wit>=1.6.0 in /usr/local/lib/python3.9/dist-packages (from tensorboard>=2.4.1->yolov5) (1.8.1)\n",
      "Requirement already satisfied: google-auth-oauthlib<0.5,>=0.4.1 in /usr/local/lib/python3.9/dist-packages (from tensorboard>=2.4.1->yolov5) (0.4.6)\n",
      "Requirement already satisfied: protobuf<3.20,>=3.9.2 in /usr/local/lib/python3.9/dist-packages (from tensorboard>=2.4.1->yolov5) (3.19.6)\n",
      "Requirement already satisfied: markdown>=2.6.8 in /usr/local/lib/python3.9/dist-packages (from tensorboard>=2.4.1->yolov5) (3.4.1)\n",
      "Collecting py-cpuinfo\n",
      "  Downloading py_cpuinfo-9.0.0-py3-none-any.whl (22 kB)\n",
      "Requirement already satisfied: termcolor in /usr/local/lib/python3.9/dist-packages (from fire->yolov5) (2.2.0)\n",
      "Requirement already satisfied: smmap<6,>=3.0.1 in /usr/local/lib/python3.9/dist-packages (from gitdb<5,>=4.0.1->gitpython>=3.1.30->yolov5) (5.0.0)\n",
      "Requirement already satisfied: pyasn1-modules>=0.2.1 in /usr/local/lib/python3.9/dist-packages (from google-auth<3,>=1.6.3->tensorboard>=2.4.1->yolov5) (0.2.8)\n",
      "Requirement already satisfied: cachetools<6.0,>=2.0.0 in /usr/local/lib/python3.9/dist-packages (from google-auth<3,>=1.6.3->tensorboard>=2.4.1->yolov5) (5.3.0)\n",
      "Requirement already satisfied: rsa<5,>=3.1.4 in /usr/local/lib/python3.9/dist-packages (from google-auth<3,>=1.6.3->tensorboard>=2.4.1->yolov5) (4.7.2)\n",
      "Requirement already satisfied: requests-oauthlib>=0.7.0 in /usr/local/lib/python3.9/dist-packages (from google-auth-oauthlib<0.5,>=0.4.1->tensorboard>=2.4.1->yolov5) (1.3.1)\n",
      "Requirement already satisfied: importlib-metadata>=4.4 in /usr/local/lib/python3.9/dist-packages (from markdown>=2.6.8->tensorboard>=2.4.1->yolov5) (6.0.0)\n",
      "Requirement already satisfied: MarkupSafe>=2.1.1 in /usr/local/lib/python3.9/dist-packages (from werkzeug>=1.0.1->tensorboard>=2.4.1->yolov5) (2.1.2)\n",
      "Requirement already satisfied: defusedxml<0.8.0,>=0.7.1 in /usr/local/lib/python3.9/dist-packages (from supervision->roboflow>=0.2.29->yolov5) (0.7.1)\n",
      "Collecting scipy>=1.4.1\n",
      "  Downloading scipy-1.12.0-cp39-cp39-manylinux_2_17_x86_64.manylinux2014_x86_64.whl (38.5 MB)\n",
      "\u001b[2K     \u001b[90m━━━━━━━━━━━━━━━━━━━━━━━━━━━━━━━━━━━━━━━━\u001b[0m \u001b[32m38.5/38.5 MB\u001b[0m \u001b[31m33.4 MB/s\u001b[0m eta \u001b[36m0:00:00\u001b[0m00:01\u001b[0m00:01\u001b[0m\n",
      "\u001b[?25hRequirement already satisfied: zipp>=0.5 in /usr/local/lib/python3.9/dist-packages (from importlib-metadata>=4.4->markdown>=2.6.8->tensorboard>=2.4.1->yolov5) (3.11.0)\n",
      "Requirement already satisfied: pyasn1<0.5.0,>=0.4.6 in /usr/local/lib/python3.9/dist-packages (from pyasn1-modules>=0.2.1->google-auth<3,>=1.6.3->tensorboard>=2.4.1->yolov5) (0.4.8)\n",
      "Requirement already satisfied: oauthlib>=3.0.0 in /usr/local/lib/python3.9/dist-packages (from requests-oauthlib>=0.7.0->google-auth-oauthlib<0.5,>=0.4.1->tensorboard>=2.4.1->yolov5) (3.2.2)\n",
      "Building wheels for collected packages: fire\n",
      "  Building wheel for fire (setup.py) ... \u001b[?25ldone\n",
      "\u001b[?25h  Created wheel for fire: filename=fire-0.5.0-py2.py3-none-any.whl size=116935 sha256=a0417951a64b47ab699f76b0ab1d87e2f726001ace824fa398308e396afb6794\n",
      "  Stored in directory: /root/.cache/pip/wheels/34/a9/61/d515d3cd1e8a349fed305bc67a9c7d68fc38d51053b6decad6\n",
      "Successfully built fire\n",
      "Installing collected packages: py-cpuinfo, shapely, scipy, python-magic, python-dotenv, pybboxes, opencv-python-headless, idna, fire, cycler, chardet, certifi, thop, supervision, sahi, ultralytics, roboflow, yolov5\n",
      "  Attempting uninstall: scipy\n",
      "    Found existing installation: scipy 1.9.2\n",
      "    Uninstalling scipy-1.9.2:\n",
      "      Successfully uninstalled scipy-1.9.2\n",
      "  Attempting uninstall: idna\n",
      "    Found existing installation: idna 2.8\n",
      "    Uninstalling idna-2.8:\n",
      "      Successfully uninstalled idna-2.8\n",
      "  Attempting uninstall: cycler\n",
      "    Found existing installation: cycler 0.11.0\n",
      "    Uninstalling cycler-0.11.0:\n",
      "      Successfully uninstalled cycler-0.11.0\n",
      "  Attempting uninstall: chardet\n",
      "    Found existing installation: chardet 3.0.4\n",
      "    Uninstalling chardet-3.0.4:\n",
      "      Successfully uninstalled chardet-3.0.4\n",
      "  Attempting uninstall: certifi\n",
      "    Found existing installation: certifi 2019.11.28\n",
      "    Uninstalling certifi-2019.11.28:\n",
      "      Successfully uninstalled certifi-2019.11.28\n",
      "Successfully installed certifi-2023.7.22 chardet-4.0.0 cycler-0.10.0 fire-0.5.0 idna-2.10 opencv-python-headless-4.8.0.74 py-cpuinfo-9.0.0 pybboxes-0.1.6 python-dotenv-1.0.1 python-magic-0.4.27 roboflow-1.1.19 sahi-0.11.15 scipy-1.12.0 shapely-2.0.2 supervision-0.18.0 thop-0.1.1.post2209072238 ultralytics-8.1.11 yolov5-7.0.13\n",
      "\u001b[33mWARNING: Running pip as the 'root' user can result in broken permissions and conflicting behaviour with the system package manager. It is recommended to use a virtual environment instead: https://pip.pypa.io/warnings/venv\u001b[0m\u001b[33m\n",
      "\u001b[0m"
     ]
    }
   ],
   "source": [
    "!pip install yolov5"
   ]
  },
  {
   "cell_type": "code",
   "execution_count": 2,
   "id": "10f86b00-088d-425b-93d5-cda975f64c81",
   "metadata": {
    "execution": {
     "iopub.execute_input": "2024-02-10T03:49:38.281544Z",
     "iopub.status.busy": "2024-02-10T03:49:38.281101Z",
     "iopub.status.idle": "2024-02-10T03:49:40.092339Z",
     "shell.execute_reply": "2024-02-10T03:49:40.091304Z",
     "shell.execute_reply.started": "2024-02-10T03:49:38.281506Z"
    }
   },
   "outputs": [
    {
     "name": "stdout",
     "output_type": "stream",
     "text": [
      "Cloning into 'yolov5'...\n",
      "remote: Enumerating objects: 16413, done.\u001b[K\n",
      "remote: Counting objects: 100% (5/5), done.\u001b[K\n",
      "remote: Compressing objects: 100% (5/5), done.\u001b[K\n",
      "remote: Total 16413 (delta 0), reused 4 (delta 0), pack-reused 16408\u001b[K\n",
      "Receiving objects: 100% (16413/16413), 14.95 MiB | 31.36 MiB/s, done.\n",
      "Resolving deltas: 100% (11260/11260), done.\n"
     ]
    }
   ],
   "source": [
    "!git clone https://github.com/ultralytics/yolov5"
   ]
  },
  {
   "cell_type": "code",
   "execution_count": 3,
   "id": "5c19943d-36e5-4425-bd5e-8389bc4b5860",
   "metadata": {
    "execution": {
     "iopub.execute_input": "2024-02-10T03:49:42.965085Z",
     "iopub.status.busy": "2024-02-10T03:49:42.964564Z",
     "iopub.status.idle": "2024-02-10T03:49:43.752150Z",
     "shell.execute_reply": "2024-02-10T03:49:43.750957Z",
     "shell.execute_reply.started": "2024-02-10T03:49:42.965054Z"
    }
   },
   "outputs": [],
   "source": [
    "import torch"
   ]
  },
  {
   "cell_type": "markdown",
   "id": "390aae4b-1127-4ebe-afad-f2b04df77cb1",
   "metadata": {},
   "source": [
    "## Splitting the Dataset"
   ]
  },
  {
   "cell_type": "code",
   "execution_count": 7,
   "id": "be72f712-a2c5-4438-afb8-1702ba395f83",
   "metadata": {
    "execution": {
     "iopub.execute_input": "2023-09-08T04:21:07.685689Z",
     "iopub.status.busy": "2023-09-08T04:21:07.685274Z",
     "iopub.status.idle": "2023-09-08T04:21:07.689759Z",
     "shell.execute_reply": "2023-09-08T04:21:07.689059Z",
     "shell.execute_reply.started": "2023-09-08T04:21:07.685659Z"
    }
   },
   "outputs": [],
   "source": [
    "import os\n",
    "import shutil\n",
    "import random\n"
   ]
  },
  {
   "cell_type": "code",
   "execution_count": 8,
   "id": "c179b60e-3aa5-4cf0-a2be-4bfcd419243f",
   "metadata": {
    "execution": {
     "iopub.execute_input": "2023-09-08T04:22:14.755417Z",
     "iopub.status.busy": "2023-09-08T04:22:14.754804Z",
     "iopub.status.idle": "2023-09-08T04:22:14.760247Z",
     "shell.execute_reply": "2023-09-08T04:22:14.759353Z",
     "shell.execute_reply.started": "2023-09-08T04:22:14.755389Z"
    }
   },
   "outputs": [],
   "source": [
    "source_dataset_dir = '/notebooks/Kather_texture_2016_image_tiles_5000'\n",
    "destination_dir = '/notebooks/dataset_split'  # Change this to your desired destination folder\n"
   ]
  },
  {
   "cell_type": "code",
   "execution_count": 9,
   "id": "545fa02d-d952-45c4-bfeb-9ad4fc963751",
   "metadata": {
    "execution": {
     "iopub.execute_input": "2023-09-08T04:22:21.494614Z",
     "iopub.status.busy": "2023-09-08T04:22:21.493343Z",
     "iopub.status.idle": "2023-09-08T04:22:21.503584Z",
     "shell.execute_reply": "2023-09-08T04:22:21.502506Z",
     "shell.execute_reply.started": "2023-09-08T04:22:21.494571Z"
    }
   },
   "outputs": [],
   "source": [
    "train_dir = os.path.join(destination_dir, 'train')\n",
    "test_dir = os.path.join(destination_dir, 'test')\n",
    "valid_dir = os.path.join(destination_dir, 'valid')\n",
    "\n",
    "os.makedirs(train_dir, exist_ok=True)\n",
    "os.makedirs(test_dir, exist_ok=True)\n",
    "os.makedirs(valid_dir, exist_ok=True)\n"
   ]
  },
  {
   "cell_type": "code",
   "execution_count": 10,
   "id": "44b319b2-ad1a-470c-a6aa-9e1123ed97a3",
   "metadata": {
    "execution": {
     "iopub.execute_input": "2023-09-08T04:22:36.554555Z",
     "iopub.status.busy": "2023-09-08T04:22:36.554178Z",
     "iopub.status.idle": "2023-09-08T04:23:05.577595Z",
     "shell.execute_reply": "2023-09-08T04:23:05.576518Z",
     "shell.execute_reply.started": "2023-09-08T04:22:36.554527Z"
    }
   },
   "outputs": [],
   "source": [
    "split_ratio = {\n",
    "    'train': 0.7,  # 70% for training\n",
    "    'test': 0.2,   # 20% for testing\n",
    "    'valid': 0.1   # 10% for validation\n",
    "}\n",
    "\n",
    "for subfolder in os.listdir(source_dataset_dir):\n",
    "    subfolder_path = os.path.join(source_dataset_dir, subfolder)\n",
    "    if os.path.isdir(subfolder_path):\n",
    "        file_list = os.listdir(subfolder_path)\n",
    "        random.shuffle(file_list)\n",
    "        \n",
    "        num_files = len(file_list)\n",
    "        num_train = int(split_ratio['train'] * num_files)\n",
    "        num_test = int(split_ratio['test'] * num_files)\n",
    "        num_valid = num_files - num_train - num_test\n",
    "        \n",
    "        train_files = file_list[:num_train]\n",
    "        test_files = file_list[num_train:num_train + num_test]\n",
    "        valid_files = file_list[num_train + num_test:]\n",
    "        \n",
    "        for filename in train_files:\n",
    "            src_file = os.path.join(subfolder_path, filename)\n",
    "            dst_file = os.path.join(train_dir, subfolder, filename)\n",
    "            os.makedirs(os.path.dirname(dst_file), exist_ok=True)\n",
    "            shutil.copy(src_file, dst_file)\n",
    "        \n",
    "        for filename in test_files:\n",
    "            src_file = os.path.join(subfolder_path, filename)\n",
    "            dst_file = os.path.join(test_dir, subfolder, filename)\n",
    "            os.makedirs(os.path.dirname(dst_file), exist_ok=True)\n",
    "            shutil.copy(src_file, dst_file)\n",
    "        \n",
    "        for filename in valid_files:\n",
    "            src_file = os.path.join(subfolder_path, filename)\n",
    "            dst_file = os.path.join(valid_dir, subfolder, filename)\n",
    "            os.makedirs(os.path.dirname(dst_file), exist_ok=True)\n",
    "            shutil.copy(src_file, dst_file)\n"
   ]
  },
  {
   "cell_type": "code",
   "execution_count": 4,
   "id": "a857db98-004f-4e87-8f6d-c717769df76f",
   "metadata": {
    "execution": {
     "iopub.execute_input": "2024-02-10T03:49:53.034754Z",
     "iopub.status.busy": "2024-02-10T03:49:53.034075Z",
     "iopub.status.idle": "2024-02-10T03:49:53.041589Z",
     "shell.execute_reply": "2024-02-10T03:49:53.040605Z",
     "shell.execute_reply.started": "2024-02-10T03:49:53.034715Z"
    }
   },
   "outputs": [
    {
     "name": "stdout",
     "output_type": "stream",
     "text": [
      "/notebooks/yolov5\n"
     ]
    }
   ],
   "source": [
    "%cd yolov5"
   ]
  },
  {
   "cell_type": "code",
   "execution_count": 5,
   "id": "0d6c4236-4572-4ee0-88ec-5ecd2b941569",
   "metadata": {
    "execution": {
     "iopub.execute_input": "2024-02-10T03:49:57.115953Z",
     "iopub.status.busy": "2024-02-10T03:49:57.115541Z",
     "iopub.status.idle": "2024-02-10T03:50:07.022004Z",
     "shell.execute_reply": "2024-02-10T03:50:07.020501Z",
     "shell.execute_reply.started": "2024-02-10T03:49:57.115898Z"
    }
   },
   "outputs": [
    {
     "name": "stdout",
     "output_type": "stream",
     "text": [
      "Requirement already satisfied: gitpython>=3.1.30 in /usr/local/lib/python3.9/dist-packages (from -r /notebooks/yolov5/requirements.txt (line 5)) (3.1.30)\n",
      "Requirement already satisfied: matplotlib>=3.3 in /usr/local/lib/python3.9/dist-packages (from -r /notebooks/yolov5/requirements.txt (line 6)) (3.6.1)\n",
      "Collecting numpy>=1.23.5\n",
      "  Downloading numpy-1.26.4-cp39-cp39-manylinux_2_17_x86_64.manylinux2014_x86_64.whl (18.2 MB)\n",
      "\u001b[2K     \u001b[90m━━━━━━━━━━━━━━━━━━━━━━━━━━━━━━━━━━━━━━━━\u001b[0m \u001b[32m18.2/18.2 MB\u001b[0m \u001b[31m47.7 MB/s\u001b[0m eta \u001b[36m0:00:00\u001b[0m00:01\u001b[0m00:01\u001b[0m\n",
      "\u001b[?25hRequirement already satisfied: opencv-python>=4.1.1 in /usr/local/lib/python3.9/dist-packages (from -r /notebooks/yolov5/requirements.txt (line 8)) (4.6.0.66)\n",
      "Collecting Pillow>=9.4.0\n",
      "  Downloading pillow-10.2.0-cp39-cp39-manylinux_2_28_x86_64.whl (4.5 MB)\n",
      "\u001b[2K     \u001b[90m━━━━━━━━━━━━━━━━━━━━━━━━━━━━━━━━━━━━━━━━\u001b[0m \u001b[32m4.5/4.5 MB\u001b[0m \u001b[31m61.4 MB/s\u001b[0m eta \u001b[36m0:00:00\u001b[0m:00:01\u001b[0m\n",
      "\u001b[?25hRequirement already satisfied: psutil in /usr/local/lib/python3.9/dist-packages (from -r /notebooks/yolov5/requirements.txt (line 10)) (5.9.4)\n",
      "Requirement already satisfied: PyYAML>=5.3.1 in /usr/local/lib/python3.9/dist-packages (from -r /notebooks/yolov5/requirements.txt (line 11)) (5.4.1)\n",
      "Requirement already satisfied: requests>=2.23.0 in /usr/local/lib/python3.9/dist-packages (from -r /notebooks/yolov5/requirements.txt (line 12)) (2.28.2)\n",
      "Requirement already satisfied: scipy>=1.4.1 in /usr/local/lib/python3.9/dist-packages (from -r /notebooks/yolov5/requirements.txt (line 13)) (1.12.0)\n",
      "Requirement already satisfied: thop>=0.1.1 in /usr/local/lib/python3.9/dist-packages (from -r /notebooks/yolov5/requirements.txt (line 14)) (0.1.1.post2209072238)\n",
      "Requirement already satisfied: torch>=1.8.0 in /usr/local/lib/python3.9/dist-packages (from -r /notebooks/yolov5/requirements.txt (line 15)) (1.12.1+cu116)\n",
      "Requirement already satisfied: torchvision>=0.9.0 in /usr/local/lib/python3.9/dist-packages (from -r /notebooks/yolov5/requirements.txt (line 16)) (0.13.1+cu116)\n",
      "Requirement already satisfied: tqdm>=4.64.0 in /usr/local/lib/python3.9/dist-packages (from -r /notebooks/yolov5/requirements.txt (line 17)) (4.64.1)\n",
      "Requirement already satisfied: ultralytics>=8.0.232 in /usr/local/lib/python3.9/dist-packages (from -r /notebooks/yolov5/requirements.txt (line 18)) (8.1.11)\n",
      "Requirement already satisfied: pandas>=1.1.4 in /usr/local/lib/python3.9/dist-packages (from -r /notebooks/yolov5/requirements.txt (line 27)) (1.5.0)\n",
      "Requirement already satisfied: seaborn>=0.11.0 in /usr/local/lib/python3.9/dist-packages (from -r /notebooks/yolov5/requirements.txt (line 28)) (0.12.0)\n",
      "Requirement already satisfied: setuptools>=65.5.1 in /usr/local/lib/python3.9/dist-packages (from -r /notebooks/yolov5/requirements.txt (line 42)) (66.1.1)\n",
      "Requirement already satisfied: gitdb<5,>=4.0.1 in /usr/local/lib/python3.9/dist-packages (from gitpython>=3.1.30->-r /notebooks/yolov5/requirements.txt (line 5)) (4.0.10)\n",
      "Requirement already satisfied: packaging>=20.0 in /usr/local/lib/python3.9/dist-packages (from matplotlib>=3.3->-r /notebooks/yolov5/requirements.txt (line 6)) (23.0)\n",
      "Requirement already satisfied: kiwisolver>=1.0.1 in /usr/local/lib/python3.9/dist-packages (from matplotlib>=3.3->-r /notebooks/yolov5/requirements.txt (line 6)) (1.4.4)\n",
      "Requirement already satisfied: contourpy>=1.0.1 in /usr/local/lib/python3.9/dist-packages (from matplotlib>=3.3->-r /notebooks/yolov5/requirements.txt (line 6)) (1.0.7)\n",
      "Requirement already satisfied: pyparsing>=2.2.1 in /usr/local/lib/python3.9/dist-packages (from matplotlib>=3.3->-r /notebooks/yolov5/requirements.txt (line 6)) (3.0.9)\n",
      "Requirement already satisfied: fonttools>=4.22.0 in /usr/local/lib/python3.9/dist-packages (from matplotlib>=3.3->-r /notebooks/yolov5/requirements.txt (line 6)) (4.38.0)\n",
      "Requirement already satisfied: cycler>=0.10 in /usr/local/lib/python3.9/dist-packages (from matplotlib>=3.3->-r /notebooks/yolov5/requirements.txt (line 6)) (0.10.0)\n",
      "Requirement already satisfied: python-dateutil>=2.7 in /usr/local/lib/python3.9/dist-packages (from matplotlib>=3.3->-r /notebooks/yolov5/requirements.txt (line 6)) (2.8.2)\n",
      "Requirement already satisfied: urllib3<1.27,>=1.21.1 in /usr/local/lib/python3.9/dist-packages (from requests>=2.23.0->-r /notebooks/yolov5/requirements.txt (line 12)) (1.26.14)\n",
      "Requirement already satisfied: idna<4,>=2.5 in /usr/local/lib/python3.9/dist-packages (from requests>=2.23.0->-r /notebooks/yolov5/requirements.txt (line 12)) (2.10)\n",
      "Requirement already satisfied: certifi>=2017.4.17 in /usr/local/lib/python3.9/dist-packages (from requests>=2.23.0->-r /notebooks/yolov5/requirements.txt (line 12)) (2023.7.22)\n",
      "Requirement already satisfied: charset-normalizer<4,>=2 in /usr/local/lib/python3.9/dist-packages (from requests>=2.23.0->-r /notebooks/yolov5/requirements.txt (line 12)) (2.1.1)\n",
      "Requirement already satisfied: typing-extensions in /usr/local/lib/python3.9/dist-packages (from torch>=1.8.0->-r /notebooks/yolov5/requirements.txt (line 15)) (4.4.0)\n",
      "Requirement already satisfied: py-cpuinfo in /usr/local/lib/python3.9/dist-packages (from ultralytics>=8.0.232->-r /notebooks/yolov5/requirements.txt (line 18)) (9.0.0)\n",
      "Requirement already satisfied: pytz>=2020.1 in /usr/local/lib/python3.9/dist-packages (from pandas>=1.1.4->-r /notebooks/yolov5/requirements.txt (line 27)) (2022.7.1)\n",
      "Requirement already satisfied: six in /usr/lib/python3/dist-packages (from cycler>=0.10->matplotlib>=3.3->-r /notebooks/yolov5/requirements.txt (line 6)) (1.14.0)\n",
      "Requirement already satisfied: smmap<6,>=3.0.1 in /usr/local/lib/python3.9/dist-packages (from gitdb<5,>=4.0.1->gitpython>=3.1.30->-r /notebooks/yolov5/requirements.txt (line 5)) (5.0.0)\n",
      "Installing collected packages: Pillow, numpy\n",
      "  Attempting uninstall: Pillow\n",
      "    Found existing installation: Pillow 9.2.0\n",
      "    Uninstalling Pillow-9.2.0:\n",
      "      Successfully uninstalled Pillow-9.2.0\n",
      "  Attempting uninstall: numpy\n",
      "    Found existing installation: numpy 1.23.4\n",
      "    Uninstalling numpy-1.23.4:\n",
      "      Successfully uninstalled numpy-1.23.4\n",
      "Successfully installed Pillow-10.2.0 numpy-1.26.4\n",
      "\u001b[33mWARNING: Running pip as the 'root' user can result in broken permissions and conflicting behaviour with the system package manager. It is recommended to use a virtual environment instead: https://pip.pypa.io/warnings/venv\u001b[0m\u001b[33m\n",
      "\u001b[0mNote: you may need to restart the kernel to use updated packages.\n"
     ]
    }
   ],
   "source": [
    "%pip install -r /notebooks/yolov5/requirements.txt"
   ]
  },
  {
   "cell_type": "code",
   "execution_count": 12,
   "id": "50e9caf3-5bb9-4150-993a-e3d79899d864",
   "metadata": {
    "execution": {
     "iopub.execute_input": "2024-02-10T04:00:13.682958Z",
     "iopub.status.busy": "2024-02-10T04:00:13.682617Z",
     "iopub.status.idle": "2024-02-10T04:00:18.317996Z",
     "shell.execute_reply": "2024-02-10T04:00:18.317013Z",
     "shell.execute_reply.started": "2024-02-10T04:00:13.682930Z"
    }
   },
   "outputs": [
    {
     "name": "stdout",
     "output_type": "stream",
     "text": [
      "Collecting Pillow==9.5.0\n",
      "  Downloading Pillow-9.5.0-cp39-cp39-manylinux_2_28_x86_64.whl (3.4 MB)\n",
      "\u001b[2K     \u001b[90m━━━━━━━━━━━━━━━━━━━━━━━━━━━━━━━━━━━━━━━━\u001b[0m \u001b[32m3.4/3.4 MB\u001b[0m \u001b[31m44.5 MB/s\u001b[0m eta \u001b[36m0:00:00\u001b[0m00:01\u001b[0m00:01\u001b[0m\n",
      "\u001b[?25hInstalling collected packages: Pillow\n",
      "  Attempting uninstall: Pillow\n",
      "    Found existing installation: pillow 10.2.0\n",
      "    Uninstalling pillow-10.2.0:\n",
      "      Successfully uninstalled pillow-10.2.0\n",
      "Successfully installed Pillow-9.5.0\n",
      "\u001b[33mWARNING: Running pip as the 'root' user can result in broken permissions and conflicting behaviour with the system package manager. It is recommended to use a virtual environment instead: https://pip.pypa.io/warnings/venv\u001b[0m\u001b[33m\n",
      "\u001b[0m"
     ]
    }
   ],
   "source": [
    "!pip install Pillow==9.5.0"
   ]
  },
  {
   "cell_type": "code",
   "execution_count": 13,
   "id": "69088290-ed2d-46cd-b637-8fff8cf09f28",
   "metadata": {
    "execution": {
     "iopub.execute_input": "2024-02-10T04:00:22.990203Z",
     "iopub.status.busy": "2024-02-10T04:00:22.989801Z",
     "iopub.status.idle": "2024-02-10T04:25:46.601594Z",
     "shell.execute_reply": "2024-02-10T04:25:46.600632Z",
     "shell.execute_reply.started": "2024-02-10T04:00:22.990172Z"
    }
   },
   "outputs": [
    {
     "name": "stdout",
     "output_type": "stream",
     "text": [
      "\u001b[34m\u001b[1mwandb\u001b[0m: WARNING ⚠️ wandb is deprecated and will be removed in a future release. See supported integrations at https://github.com/ultralytics/yolov5#integrations.\n",
      "\u001b[34m\u001b[1mwandb\u001b[0m: (1) Create a W&B account\n",
      "\u001b[34m\u001b[1mwandb\u001b[0m: (2) Use an existing W&B account\n",
      "\u001b[34m\u001b[1mwandb\u001b[0m: (3) Don't visualize my results\n",
      "\u001b[34m\u001b[1mwandb\u001b[0m: Enter your choice: (30 second timeout) \n",
      "\u001b[34m\u001b[1mwandb\u001b[0m: W&B disabled due to login timeout.\n",
      "\u001b[34m\u001b[1mclassify/train: \u001b[0mmodel=yolov5s-cls.pt, data=/notebooks/dataset_split, epochs=150, batch_size=64, imgsz=224, nosave=False, cache=ram, device=, workers=8, project=runs/train-cls, name=exp, exist_ok=False, pretrained=True, optimizer=Adam, lr0=0.001, decay=5e-05, label_smoothing=0.1, cutoff=None, dropout=None, verbose=False, seed=0, local_rank=-1\n",
      "\u001b[34m\u001b[1mgithub: \u001b[0mup to date with https://github.com/ultralytics/yolov5 ✅\n",
      "YOLOv5 🚀 v7.0-284-g95ebf68f Python-3.9.16 torch-1.12.1+cu116 CUDA:0 (Quadro P5000, 16273MiB)\n",
      "\n",
      "\u001b[34m\u001b[1mTensorBoard: \u001b[0mStart with 'tensorboard --logdir runs/train-cls', view at http://localhost:6006/\n",
      "\u001b[34m\u001b[1malbumentations: \u001b[0m⚠️ not found, install with `pip install albumentations` (recommended)\n",
      "Downloading https://github.com/ultralytics/yolov5/releases/download/v7.0/yolov5s-cls.pt to yolov5s-cls.pt...\n",
      "100%|██████████████████████████████████████| 10.5M/10.5M [00:00<00:00, 85.3MB/s]\n",
      "\n",
      "Model summary: 149 layers, 4182728 parameters, 4182728 gradients, 10.5 GFLOPs\n",
      "\u001b[34m\u001b[1moptimizer:\u001b[0m Adam(lr=0.001) with parameter groups 32 weight(decay=0.0), 33 weight(decay=5e-05), 33 bias\n",
      "Image sizes 224 train, 224 test\n",
      "Using 7 dataloader workers\n",
      "Logging results to \u001b[1mruns/train-cls/exp3\u001b[0m\n",
      "Starting yolov5s-cls.pt training on /notebooks/dataset_split dataset with 8 classes for 150 epochs...\n",
      "\n",
      "     Epoch   GPU_mem  train_loss   test_loss    top1_acc    top5_acc\n",
      "     1/150     1.11G       0.845       0.816       0.891       0.997: 100%|█████\n",
      "     2/150      1.4G       0.641       0.711       0.911       0.998: 100%|█████\n",
      "     3/150      1.4G       0.575       0.711       0.905       0.998: 100%|█████\n",
      "     4/150      1.4G       0.534       0.637       0.934       0.999: 100%|█████\n",
      "     5/150      1.4G       0.511       0.607       0.945       0.999: 100%|█████\n",
      "     6/150      1.4G       0.497        0.59       0.963       0.999: 100%|█████\n",
      "     7/150      1.4G       0.497       0.586       0.961       0.998: 100%|█████\n",
      "     8/150      1.4G       0.485       0.573       0.964           1: 100%|█████\n",
      "     9/150      1.4G       0.482       0.572       0.964       0.998: 100%|█████\n",
      "    10/150      1.4G       0.486       0.632       0.935       0.999: 100%|█████\n",
      "    11/150      1.4G       0.484       0.585       0.953       0.998: 100%|█████\n",
      "    12/150      1.4G        0.48       0.582       0.965       0.998: 100%|█████\n",
      "    13/150      1.4G       0.478        0.57       0.961           1: 100%|█████\n",
      "    14/150      1.4G       0.479       0.563       0.965       0.999: 100%|█████\n",
      "    15/150      1.4G       0.477       0.585       0.953           1: 100%|█████\n",
      "    16/150      1.4G       0.475       0.554        0.97           1: 100%|█████\n",
      "    17/150      1.4G       0.478       0.561       0.965           1: 100%|█████\n",
      "    18/150      1.4G       0.477       0.579       0.956       0.999: 100%|█████\n",
      "    19/150      1.4G       0.477       0.606       0.943       0.997: 100%|█████\n",
      "    20/150      1.4G       0.477       0.573       0.962           1: 100%|█████\n",
      "    21/150      1.4G       0.475       0.574       0.956           1: 100%|█████\n",
      "    22/150      1.4G       0.474       0.564       0.963       0.999: 100%|█████\n",
      "    23/150      1.4G       0.472       0.566       0.959       0.998: 100%|█████\n",
      "    24/150      1.4G       0.473       0.568       0.958       0.999: 100%|█████\n",
      "    25/150      1.4G       0.473       0.615       0.936       0.998: 100%|█████\n",
      "    26/150      1.4G       0.478        0.66       0.922       0.992: 100%|█████\n",
      "    27/150      1.4G       0.674          24       0.251       0.699: 100%|█████\n",
      "    28/150      1.4G       0.697        1.11       0.682        0.99: 100%|█████\n",
      "    29/150      1.4G       0.646       0.722       0.912       0.996: 100%|█████\n",
      "    30/150      1.4G       0.552       0.768       0.868       0.995: 100%|█████\n",
      "    31/150      1.4G       0.523       0.621       0.939       0.998: 100%|█████\n",
      "    32/150      1.4G       0.501       0.663       0.919       0.999: 100%|█████\n",
      "    33/150      1.4G       0.493       0.631        0.93           1: 100%|█████\n",
      "    34/150      1.4G       0.489       0.635       0.943       0.998: 100%|█████\n",
      "    35/150      1.4G       0.482       0.588       0.955       0.999: 100%|█████\n",
      "    36/150      1.4G       0.481         0.6       0.948           1: 100%|█████\n",
      "    37/150      1.4G       0.484       0.605       0.943       0.999: 100%|█████\n",
      "    38/150      1.4G       0.477       0.592       0.949           1: 100%|█████\n",
      "    39/150      1.4G       0.476       0.594       0.946           1: 100%|█████\n",
      "    40/150      1.4G       0.475       0.596       0.947       0.999: 100%|█████\n",
      "    41/150      1.4G       0.473        0.59        0.95       0.999: 100%|█████\n",
      "    42/150      1.4G       0.473       0.594       0.946       0.999: 100%|█████\n",
      "    43/150      1.4G       0.472       0.591       0.953       0.999: 100%|█████\n",
      "    44/150      1.4G       0.472       0.608        0.94           1: 100%|█████\n",
      "    45/150      1.4G       0.472       0.587       0.955           1: 100%|█████\n",
      "    46/150      1.4G       0.471       0.596        0.95       0.999: 100%|█████\n",
      "    47/150      1.4G       0.471       0.598       0.948       0.999: 100%|█████\n",
      "    48/150      1.4G       0.471       0.615       0.935       0.997: 100%|█████\n",
      "    49/150      1.4G       0.472       0.584       0.956           1: 100%|█████\n",
      "    50/150      1.4G       0.472       0.594       0.951       0.998: 100%|█████\n",
      "    51/150      1.4G       0.471       0.578       0.954       0.999: 100%|█████\n",
      "    52/150      1.4G       0.472       0.584       0.954       0.999: 100%|█████\n",
      "    53/150      1.4G       0.472       0.589       0.955       0.999: 100%|█████\n",
      "    54/150      1.4G       0.475       0.594       0.945           1: 100%|█████\n",
      "    55/150      1.4G       0.472       0.597        0.95       0.998: 100%|█████\n",
      "    56/150      1.4G       0.473       0.598       0.953       0.997: 100%|█████\n",
      "    57/150      1.4G       0.487       0.766       0.867       0.998: 100%|█████\n",
      "    58/150      1.4G       0.578        1.22        0.76       0.983: 100%|█████\n",
      "    59/150      1.4G       0.587       0.877       0.852       0.993: 100%|█████\n",
      "    60/150      1.4G       0.544       0.638       0.927       0.999: 100%|█████\n",
      "    61/150      1.4G       0.498       0.635       0.934       0.998: 100%|█████\n",
      "    62/150      1.4G       0.489       0.608       0.938       0.999: 100%|█████\n",
      "    63/150      1.4G       0.483       0.685        0.92           1: 100%|█████\n",
      "    64/150      1.4G       0.485       0.594       0.944           1: 100%|█████\n",
      "    65/150      1.4G       0.477       0.597        0.95       0.999: 100%|█████\n",
      "    66/150      1.4G       0.475       0.583       0.957       0.998: 100%|█████\n",
      "    67/150      1.4G       0.475       0.597       0.949       0.999: 100%|█████\n",
      "    68/150      1.4G       0.472       0.581       0.956           1: 100%|█████\n",
      "    69/150      1.4G       0.471       0.592       0.948       0.999: 100%|█████\n",
      "    70/150      1.4G       0.471       0.582        0.96       0.998: 100%|█████\n",
      "    71/150      1.4G       0.472       0.598       0.954       0.999: 100%|█████\n",
      "    72/150      1.4G       0.471       0.581       0.955           1: 100%|█████\n",
      "    73/150      1.4G       0.471       0.598       0.948           1: 100%|█████\n",
      "    74/150      1.4G       0.476       0.591        0.95       0.998: 100%|█████\n",
      "    75/150      1.4G       0.472       0.595       0.949       0.999: 100%|█████\n",
      "    76/150      1.4G       0.473       0.599       0.953           1: 100%|█████\n",
      "    77/150      1.4G       0.472       0.587       0.952       0.999: 100%|█████\n",
      "    78/150      1.4G        0.47        0.58       0.961           1: 100%|█████\n",
      "    79/150      1.4G        0.47       0.586       0.954       0.999: 100%|█████\n",
      "    80/150      1.4G        0.47       0.587       0.957       0.998: 100%|█████\n",
      "    81/150      1.4G        0.47       0.587       0.956       0.999: 100%|█████\n",
      "    82/150      1.4G       0.471       0.589       0.956           1: 100%|█████\n",
      "    83/150      1.4G        0.47        0.58       0.959       0.998: 100%|█████\n",
      "    84/150      1.4G       0.469       0.583       0.959       0.998: 100%|█████\n",
      "    85/150      1.4G       0.469       0.587       0.956       0.999: 100%|█████\n",
      "    86/150      1.4G       0.469       0.585       0.957       0.999: 100%|█████\n",
      "    87/150      1.4G       0.469       0.587       0.961           1: 100%|█████\n",
      "    88/150      1.4G       0.469       0.582        0.96       0.999: 100%|█████\n",
      "    89/150      1.4G       0.468       0.582       0.961           1: 100%|█████\n",
      "    90/150      1.4G       0.469       0.593       0.952       0.999: 100%|█████\n",
      "    91/150      1.4G       0.469       0.583       0.956       0.998: 100%|█████\n",
      "    92/150      1.4G       0.469       0.585       0.952       0.999: 100%|█████\n",
      "    93/150      1.4G       0.468       0.586       0.964       0.999: 100%|█████\n",
      "    94/150      1.4G       0.468       0.588       0.959       0.999: 100%|█████\n",
      "    95/150      1.4G       0.469        0.59       0.951       0.999: 100%|█████\n",
      "    96/150      1.4G       0.469       0.589       0.954       0.998: 100%|█████\n",
      "    97/150      1.4G       0.468       0.586       0.959       0.998: 100%|█████\n",
      "    98/150      1.4G       0.469       0.587       0.955       0.999: 100%|█████\n",
      "    99/150      1.4G       0.473       0.621       0.932       0.999: 100%|█████\n",
      "   100/150      1.4G        0.49       0.702       0.901       0.996: 100%|█████\n",
      "   101/150      1.4G       0.515       0.636       0.945       0.999: 100%|█████\n",
      "   102/150      1.4G       0.516       0.683       0.926       0.997: 100%|█████\n",
      "   103/150      1.4G       0.483       0.594       0.961       0.998: 100%|█████\n",
      "   104/150      1.4G       0.475       0.593       0.948       0.999: 100%|█████\n",
      "   105/150      1.4G       0.474       0.579       0.959       0.998: 100%|█████\n",
      "   106/150      1.4G       0.471        0.58        0.96       0.999: 100%|█████\n",
      "   107/150      1.4G       0.471       0.581        0.96       0.998: 100%|█████\n",
      "   108/150      1.4G        0.47       0.582       0.958       0.999: 100%|█████\n",
      "   109/150      1.4G       0.469       0.582       0.962       0.998: 100%|█████\n",
      "   110/150      1.4G       0.469       0.583       0.956       0.999: 100%|█████\n",
      "   111/150      1.4G       0.469       0.584       0.957       0.998: 100%|█████\n",
      "   112/150      1.4G       0.469       0.582        0.96       0.998: 100%|█████\n",
      "   113/150      1.4G       0.468       0.581        0.96       0.998: 100%|█████\n",
      "   114/150      1.4G       0.469       0.585       0.959       0.998: 100%|█████\n",
      "   115/150      1.4G       0.468       0.581       0.961       0.999: 100%|█████\n",
      "   116/150      1.4G       0.468       0.581       0.961       0.998: 100%|█████\n",
      "   117/150      1.4G       0.468       0.581       0.962       0.998: 100%|█████\n",
      "   118/150      1.4G       0.468       0.581       0.961       0.998: 100%|█████\n",
      "   119/150      1.4G       0.468       0.586        0.96       0.998: 100%|█████\n",
      "   120/150      1.4G       0.468       0.586       0.961       0.998: 100%|█████\n",
      "   121/150      1.4G       0.469       0.583       0.962       0.998: 100%|█████\n",
      "   122/150      1.4G       0.469       0.581       0.959       0.998: 100%|█████\n",
      "   123/150      1.4G       0.468       0.579       0.962       0.998: 100%|█████\n",
      "   124/150      1.4G       0.468       0.579       0.961       0.998: 100%|█████\n",
      "   125/150      1.4G       0.468       0.582       0.961       0.998: 100%|█████\n",
      "   126/150      1.4G       0.468       0.579        0.96       0.999: 100%|█████\n",
      "   127/150      1.4G       0.468       0.581       0.957       0.998: 100%|█████\n",
      "   128/150      1.4G       0.468       0.583        0.96       0.999: 100%|█████\n",
      "   129/150      1.4G       0.468       0.579       0.963       0.998: 100%|█████\n",
      "   130/150      1.4G       0.468       0.582       0.955       0.999: 100%|█████\n",
      "   131/150      1.4G       0.468        0.58       0.959       0.998: 100%|█████\n",
      "   132/150      1.4G       0.468       0.581        0.96       0.999: 100%|█████\n",
      "   133/150      1.4G       0.468       0.584       0.954       0.998: 100%|█████\n",
      "   134/150      1.4G       0.468       0.583       0.956       0.998: 100%|█████\n",
      "   135/150      1.4G       0.468       0.582       0.959       0.998: 100%|█████\n",
      "   136/150      1.4G       0.468       0.582        0.96       0.999: 100%|█████\n",
      "   137/150      1.4G       0.469       0.585       0.962       0.998: 100%|█████\n",
      "   138/150      1.4G       0.468       0.582       0.958       0.998: 100%|█████\n",
      "   139/150      1.4G       0.468       0.581       0.961       0.998: 100%|█████\n",
      "   140/150      1.4G       0.468       0.582       0.958       0.999: 100%|█████\n",
      "   141/150      1.4G       0.468       0.586       0.955       0.999: 100%|█████\n",
      "   142/150      1.4G       0.468       0.585       0.956       0.999: 100%|█████\n",
      "   143/150      1.4G       0.468       0.586       0.956       0.998: 100%|█████\n",
      "   144/150      1.4G       0.468       0.589       0.953       0.998: 100%|█████\n",
      "   145/150      1.4G       0.467       0.588       0.955       0.998: 100%|█████\n",
      "   146/150      1.4G       0.468       0.586       0.959       0.998: 100%|█████\n",
      "   147/150      1.4G       0.467       0.585       0.959       0.999: 100%|█████\n",
      "   148/150      1.4G       0.467       0.585        0.96       0.998: 100%|█████\n",
      "   149/150      1.4G       0.467       0.585       0.958       0.998: 100%|█████\n",
      "   150/150      1.4G       0.467       0.584       0.959       0.998: 100%|█████\n",
      "\n",
      "Training complete (0.408 hours)\n",
      "Results saved to \u001b[1mruns/train-cls/exp3\u001b[0m\n",
      "Predict:         python classify/predict.py --weights runs/train-cls/exp3/weights/best.pt --source im.jpg\n",
      "Validate:        python classify/val.py --weights runs/train-cls/exp3/weights/best.pt --data /notebooks/dataset_split\n",
      "Export:          python export.py --weights runs/train-cls/exp3/weights/best.pt --include onnx\n",
      "PyTorch Hub:     model = torch.hub.load('ultralytics/yolov5', 'custom', 'runs/train-cls/exp3/weights/best.pt')\n",
      "Visualize:       https://netron.app\n",
      "\n"
     ]
    }
   ],
   "source": [
    "!python /notebooks/yolov5/classify/train.py --model yolov5s-cls.pt --data /notebooks/dataset_split --epochs 150 --img 224 --cache\n"
   ]
  },
  {
   "cell_type": "code",
   "execution_count": 15,
   "id": "10c96d8e-5f25-400f-9ae9-b8083f33e8dc",
   "metadata": {
    "execution": {
     "iopub.execute_input": "2024-02-10T04:34:16.733782Z",
     "iopub.status.busy": "2024-02-10T04:34:16.733383Z",
     "iopub.status.idle": "2024-02-10T05:28:24.314024Z",
     "shell.execute_reply": "2024-02-10T05:28:24.312926Z",
     "shell.execute_reply.started": "2024-02-10T04:34:16.733755Z"
    }
   },
   "outputs": [
    {
     "name": "stdout",
     "output_type": "stream",
     "text": [
      "\u001b[34m\u001b[1mwandb\u001b[0m: WARNING ⚠️ wandb is deprecated and will be removed in a future release. See supported integrations at https://github.com/ultralytics/yolov5#integrations.\n",
      "\u001b[34m\u001b[1mwandb\u001b[0m: (1) Create a W&B account\n",
      "\u001b[34m\u001b[1mwandb\u001b[0m: (2) Use an existing W&B account\n",
      "\u001b[34m\u001b[1mwandb\u001b[0m: (3) Don't visualize my results\n",
      "\u001b[34m\u001b[1mwandb\u001b[0m: Enter your choice: (30 second timeout) \n",
      "\u001b[34m\u001b[1mwandb\u001b[0m: W&B disabled due to login timeout.\n",
      "\u001b[34m\u001b[1mclassify/train: \u001b[0mmodel=yolov5l-cls.pt, data=/notebooks/dataset_split, epochs=110, batch_size=64, imgsz=224, nosave=False, cache=ram, device=, workers=8, project=runs/train-cls, name=exp, exist_ok=False, pretrained=True, optimizer=Adam, lr0=0.001, decay=5e-05, label_smoothing=0.1, cutoff=None, dropout=None, verbose=False, seed=0, local_rank=-1\n",
      "\u001b[34m\u001b[1mgithub: \u001b[0mup to date with https://github.com/ultralytics/yolov5 ✅\n",
      "YOLOv5 🚀 v7.0-284-g95ebf68f Python-3.9.16 torch-1.12.1+cu116 CUDA:0 (Quadro P5000, 16273MiB)\n",
      "\n",
      "\u001b[34m\u001b[1mTensorBoard: \u001b[0mStart with 'tensorboard --logdir runs/train-cls', view at http://localhost:6006/\n",
      "\u001b[34m\u001b[1malbumentations: \u001b[0m⚠️ not found, install with `pip install albumentations` (recommended)\n",
      "Downloading https://github.com/ultralytics/yolov5/releases/download/v7.0/yolov5l-cls.pt to yolov5l-cls.pt...\n",
      "100%|███████████████████████████████████████| 50.9M/50.9M [00:00<00:00, 126MB/s]\n",
      "\n",
      "Model summary: 275 layers, 25281928 parameters, 25281928 gradients, 68.8 GFLOPs\n",
      "\u001b[34m\u001b[1moptimizer:\u001b[0m Adam(lr=0.001) with parameter groups 60 weight(decay=0.0), 61 weight(decay=5e-05), 61 bias\n",
      "Image sizes 224 train, 224 test\n",
      "Using 7 dataloader workers\n",
      "Logging results to \u001b[1mruns/train-cls/exp5\u001b[0m\n",
      "Starting yolov5l-cls.pt training on /notebooks/dataset_split dataset with 8 classes for 110 epochs...\n",
      "\n",
      "     Epoch   GPU_mem  train_loss   test_loss    top1_acc    top5_acc\n",
      "     1/110     3.34G       0.895        2.13       0.606       0.985: 100%|█████\n",
      "     2/110     3.75G       0.702        1.01       0.832       0.988: 100%|█████\n",
      "     3/110     3.75G       0.631       0.941       0.822       0.989: 100%|█████\n",
      "     4/110     3.75G       0.588       0.663       0.928       0.998: 100%|█████\n",
      "     5/110     3.75G       0.546       0.632       0.948       0.999: 100%|█████\n",
      "     6/110     3.75G       0.532       0.704       0.906       0.995: 100%|█████\n",
      "     7/110     3.75G       0.529       0.659       0.927       0.999: 100%|█████\n",
      "     8/110     3.75G       0.514       0.613        0.94       0.999: 100%|█████\n",
      "     9/110     3.75G        0.51       0.753       0.887       0.993: 100%|█████\n",
      "    10/110     3.75G       0.521        0.66        0.92           1: 100%|█████\n",
      "    11/110     3.75G       0.511       0.648       0.937       0.998: 100%|█████\n",
      "    12/110     3.75G       0.503       0.618       0.945       0.998: 100%|█████\n",
      "    13/110     3.75G       0.493       0.654        0.93       0.997: 100%|█████\n",
      "    14/110     3.75G       0.493       0.606       0.945       0.999: 100%|█████\n",
      "    15/110     3.75G       0.487       0.613       0.956       0.999: 100%|█████\n",
      "    16/110     3.75G       0.523        1.15        0.68        0.97: 100%|█████\n",
      "    17/110     3.75G       0.598        1.03       0.776       0.991: 100%|█████\n",
      "    18/110     3.75G       0.595       0.981       0.809        0.98: 100%|█████\n",
      "    19/110     3.75G       0.538       0.795       0.863       0.994: 100%|█████\n",
      "    20/110     3.75G       0.505        1.12       0.704       0.997: 100%|█████\n",
      "    21/110     3.75G       0.491       0.636       0.943       0.999: 100%|█████\n",
      "    22/110     3.75G       0.489       0.595       0.954       0.999: 100%|█████\n",
      "    23/110     3.75G        0.48       0.569       0.953           1: 100%|█████\n",
      "    24/110     3.75G       0.485       0.657       0.924       0.999: 100%|█████\n",
      "    25/110     3.75G       0.506        0.78       0.876       0.993: 100%|█████\n",
      "    26/110     3.75G       0.495       0.662       0.923       0.999: 100%|█████\n",
      "    27/110     3.75G       0.485       0.627       0.938           1: 100%|█████\n",
      "    28/110     3.75G       0.486       0.613       0.939           1: 100%|█████\n",
      "    29/110     3.75G        0.49       0.657       0.929       0.999: 100%|█████\n",
      "    30/110     3.75G       0.506       0.739       0.895       0.992: 100%|█████\n",
      "    31/110     3.75G       0.506       0.735       0.897           1: 100%|█████\n",
      "    32/110     3.75G       0.507       0.683       0.916       0.998: 100%|█████\n",
      "    33/110     3.75G       0.494       0.627       0.946       0.997: 100%|█████\n",
      "    34/110     3.75G       0.488       0.609       0.954       0.999: 100%|█████\n",
      "    35/110     3.75G        0.48       0.614       0.941       0.998: 100%|█████\n",
      "    36/110     3.75G       0.483       0.581       0.958       0.998: 100%|█████\n",
      "    37/110     3.75G       0.481       0.688       0.924       0.998: 100%|█████\n",
      "    38/110     3.75G       0.488        1.15       0.757       0.961: 100%|█████\n",
      "    39/110     3.75G        0.49         0.7       0.906       0.995: 100%|█████\n",
      "    40/110     3.75G       0.491       0.849       0.841       0.993: 100%|█████\n",
      "    41/110     3.75G       0.497       0.742       0.888       0.991: 100%|█████\n",
      "    42/110     3.75G        0.49       0.726        0.89       0.994: 100%|█████\n",
      "    43/110     3.75G       0.492       0.704       0.909       0.996: 100%|█████\n",
      "    44/110     3.75G       0.487       0.683       0.909       0.997: 100%|█████\n",
      "    45/110     3.75G       0.479       0.595       0.945       0.999: 100%|█████\n",
      "    46/110     3.75G       0.479       0.686       0.918           1: 100%|█████\n",
      "    47/110     3.75G       0.482       0.896       0.826       0.983: 100%|█████\n",
      "    48/110     3.75G       0.479       0.742       0.901       0.982: 100%|█████\n",
      "    49/110     3.75G       0.476         0.6       0.941       0.999: 100%|█████\n",
      "    50/110     3.75G       0.473       0.624       0.946       0.998: 100%|█████\n",
      "    51/110     3.75G       0.471       0.607       0.948       0.999: 100%|█████\n",
      "    52/110     3.75G       0.476       0.668       0.913       0.999: 100%|█████\n",
      "    53/110     3.75G       0.485       0.682       0.921       0.999: 100%|█████\n",
      "    54/110     3.75G       0.487       0.741       0.896       0.994: 100%|█████\n",
      "    55/110     3.75G       0.482       0.632       0.939       0.996: 100%|█████\n",
      "    56/110     3.75G       0.487        1.59       0.613       0.989: 100%|█████\n",
      "    57/110     3.75G       0.498       0.622       0.941       0.999: 100%|█████\n",
      "    58/110     3.75G        0.49       0.675       0.926       0.998: 100%|█████\n",
      "    59/110     3.75G       0.498       0.675       0.912       0.999: 100%|█████\n",
      "    60/110     3.75G       0.497       0.639       0.932       0.993: 100%|█████\n",
      "    61/110     3.75G        0.49       0.667        0.92       0.996: 100%|█████\n",
      "    62/110     3.75G       0.485       0.714       0.893       0.997: 100%|█████\n",
      "    63/110     3.75G       0.479       0.629        0.93       0.998: 100%|█████\n",
      "    64/110     3.75G       0.473       0.586       0.946       0.998: 100%|█████\n",
      "    65/110     3.75G       0.472        0.63       0.932       0.997: 100%|█████\n",
      "    66/110     3.75G       0.472       0.634       0.936       0.997: 100%|█████\n",
      "    67/110     3.75G       0.475       0.751       0.872       0.995: 100%|█████\n",
      "    68/110     3.75G       0.472       0.591       0.946       0.998: 100%|█████\n",
      "    69/110     3.75G        0.47       0.625       0.927       0.999: 100%|█████\n",
      "    70/110     3.75G        0.47       0.588       0.947           1: 100%|█████\n",
      "    71/110     3.75G       0.469       0.589       0.949           1: 100%|█████\n",
      "    72/110     3.75G       0.469       0.584       0.949           1: 100%|█████\n",
      "    73/110     3.75G        0.47       0.589       0.947           1: 100%|█████\n",
      "    74/110     3.75G       0.474       0.666       0.923       0.996: 100%|█████\n",
      "    75/110     3.75G        0.47       0.608       0.936       0.999: 100%|█████\n",
      "    76/110     3.75G       0.472        0.62       0.946       0.999: 100%|█████\n",
      "    77/110     3.75G       0.472       0.603       0.946       0.999: 100%|█████\n",
      "    78/110     3.75G       0.469       0.589       0.953           1: 100%|█████\n",
      "    79/110     3.75G       0.472        0.62       0.936       0.999: 100%|█████\n",
      "    80/110     3.75G       0.471       0.606       0.944       0.999: 100%|█████\n",
      "    81/110     3.75G       0.476       0.891       0.837       0.998: 100%|█████\n",
      "    82/110     3.75G       0.481       0.701       0.896       0.996: 100%|█████\n",
      "    83/110     3.75G       0.474       0.603       0.938       0.999: 100%|█████\n",
      "    84/110     3.75G        0.47       0.581       0.954           1: 100%|█████\n",
      "    85/110     3.75G       0.471       0.625       0.935       0.998: 100%|█████\n",
      "    86/110     3.75G       0.469        0.58       0.949           1: 100%|█████\n",
      "    87/110     3.75G        0.47         0.6       0.946       0.998: 100%|█████\n",
      "    88/110     3.75G       0.469        0.58       0.952       0.999: 100%|█████\n",
      "    89/110     3.75G       0.468       0.585        0.95       0.999: 100%|█████\n",
      "    90/110     3.75G       0.468       0.577       0.953           1: 100%|█████\n",
      "    91/110     3.75G       0.468       0.577       0.955       0.999: 100%|█████\n",
      "    92/110     3.75G       0.468       0.579       0.957       0.999: 100%|█████\n",
      "    93/110     3.75G       0.468       0.577       0.956           1: 100%|█████\n",
      "    94/110     3.75G       0.468       0.583       0.951           1: 100%|█████\n",
      "    95/110     3.75G       0.469       0.587       0.949       0.999: 100%|█████\n",
      "    96/110     3.75G       0.468       0.586       0.946       0.999: 100%|█████\n",
      "    97/110     3.75G       0.468       0.576       0.956       0.999: 100%|█████\n",
      "    98/110     3.75G       0.468       0.578       0.952       0.999: 100%|█████\n",
      "    99/110     3.75G       0.472       0.649       0.925       0.996: 100%|█████\n",
      "   100/110     3.75G       0.469       0.596       0.944       0.999: 100%|█████\n",
      "   101/110     3.75G       0.468       0.591       0.942       0.999: 100%|█████\n",
      "   102/110     3.75G       0.468       0.589        0.94           1: 100%|█████\n",
      "   103/110     3.75G       0.468       0.581       0.946           1: 100%|█████\n",
      "   104/110     3.75G       0.468       0.577       0.951           1: 100%|█████\n",
      "   105/110     3.75G       0.468        0.59       0.944       0.999: 100%|█████\n",
      "   106/110     3.75G       0.468       0.582       0.951       0.999: 100%|█████\n",
      "   107/110     3.75G       0.468       0.586       0.942       0.999: 100%|█████\n",
      "   108/110     3.75G       0.468       0.586       0.947       0.999: 100%|█████\n",
      "   109/110     3.75G       0.467       0.579       0.948           1: 100%|█████\n",
      "   110/110     3.75G       0.467       0.574       0.946           1: 100%|█████\n",
      "\n",
      "Training complete (0.887 hours)\n",
      "Results saved to \u001b[1mruns/train-cls/exp5\u001b[0m\n",
      "Predict:         python classify/predict.py --weights runs/train-cls/exp5/weights/best.pt --source im.jpg\n",
      "Validate:        python classify/val.py --weights runs/train-cls/exp5/weights/best.pt --data /notebooks/dataset_split\n",
      "Export:          python export.py --weights runs/train-cls/exp5/weights/best.pt --include onnx\n",
      "PyTorch Hub:     model = torch.hub.load('ultralytics/yolov5', 'custom', 'runs/train-cls/exp5/weights/best.pt')\n",
      "Visualize:       https://netron.app\n",
      "\n"
     ]
    }
   ],
   "source": [
    "!python /notebooks/yolov5/classify/train.py --model yolov5l-cls.pt --data /notebooks/dataset_split --epochs 110 --img 224 --cache"
   ]
  },
  {
   "cell_type": "code",
   "execution_count": 18,
   "id": "23c03c5d-68fa-43f4-9191-3744e475954b",
   "metadata": {
    "execution": {
     "iopub.execute_input": "2024-02-10T05:49:45.286786Z",
     "iopub.status.busy": "2024-02-10T05:49:45.286400Z",
     "iopub.status.idle": "2024-02-10T05:50:44.536154Z",
     "shell.execute_reply": "2024-02-10T05:50:44.535013Z",
     "shell.execute_reply.started": "2024-02-10T05:49:45.286755Z"
    }
   },
   "outputs": [
    {
     "name": "stdout",
     "output_type": "stream",
     "text": [
      "\n",
      "NOTE: Using experimental fast data loading logic. To disable, pass\n",
      "    \"--load_fast=false\" and report issues on GitHub. More details:\n",
      "    https://github.com/tensorflow/tensorboard/issues/4784\n",
      "\n",
      "TensorBoard 2.9.1 at http://njkes3n730:6006/ (Press CTRL+C to quit)\n",
      "^C\n"
     ]
    }
   ],
   "source": [
    "!tensorboard --logdir runs/train-cls --bind_all"
   ]
  },
  {
   "cell_type": "code",
   "execution_count": 16,
   "id": "266a0def-cdc5-4aeb-8444-a8817795ce62",
   "metadata": {
    "execution": {
     "iopub.execute_input": "2024-02-10T05:47:21.742621Z",
     "iopub.status.busy": "2024-02-10T05:47:21.742253Z",
     "iopub.status.idle": "2024-02-10T05:47:35.373192Z",
     "shell.execute_reply": "2024-02-10T05:47:35.371684Z",
     "shell.execute_reply.started": "2024-02-10T05:47:21.742584Z"
    }
   },
   "outputs": [
    {
     "name": "stdout",
     "output_type": "stream",
     "text": [
      "\u001b[34m\u001b[1mclassify/val: \u001b[0mdata=/notebooks/dataset_split, weights=['runs/train-cls/exp5/weights/best.pt'], batch_size=128, imgsz=224, device=, workers=8, verbose=True, project=runs/val-cls, name=exp, exist_ok=False, half=False, dnn=False\n",
      "YOLOv5 🚀 v7.0-284-g95ebf68f Python-3.9.16 torch-1.12.1+cu116 CUDA:0 (Quadro P5000, 16273MiB)\n",
      "\n",
      "Fusing layers... \n",
      "Model summary: 215 layers, 25265224 parameters, 0 gradients, 68.3 GFLOPs\n",
      "testing: 100%|██████████| 8/8 [00:03<00:00,  2.51it/s]\n",
      "                   Class      Images    top1_acc    top5_acc\n",
      "                     all        1000       0.958       0.998\n",
      "                01_TUMOR         125       0.952       0.992\n",
      "               02_STROMA         125        0.96           1\n",
      "              03_COMPLEX         125        0.92       0.992\n",
      "               04_LYMPHO         125       0.952           1\n",
      "               05_DEBRIS         125       0.968           1\n",
      "               06_MUCOSA         125       0.968           1\n",
      "              07_ADIPOSE         125       0.952           1\n",
      "                08_EMPTY         125       0.992           1\n",
      "Speed: 0.1ms pre-process, 1.8ms inference, 0.1ms post-process per image at shape (1, 3, 224, 224)\n",
      "Results saved to \u001b[1mruns/val-cls/exp\u001b[0m\n"
     ]
    }
   ],
   "source": [
    " !python classify/val.py --weights runs/train-cls/exp5/weights/best.pt --data /notebooks/dataset_split"
   ]
  },
  {
   "cell_type": "code",
   "execution_count": 19,
   "id": "ae71c420-5ff2-424a-851f-761d9e9b0540",
   "metadata": {
    "execution": {
     "iopub.execute_input": "2024-02-10T05:50:54.662259Z",
     "iopub.status.busy": "2024-02-10T05:50:54.661540Z",
     "iopub.status.idle": "2024-02-10T05:51:04.810513Z",
     "shell.execute_reply": "2024-02-10T05:51:04.809577Z",
     "shell.execute_reply.started": "2024-02-10T05:50:54.662227Z"
    }
   },
   "outputs": [
    {
     "name": "stdout",
     "output_type": "stream",
     "text": [
      "\u001b[34m\u001b[1mclassify/predict: \u001b[0mweights=['/notebooks/yolov5/runs/train-cls/exp3/weights/best.pt'], source=/notebooks/Test_Data, data=data/coco128.yaml, imgsz=[224, 224], device=, view_img=False, save_txt=False, nosave=False, augment=False, visualize=False, update=False, project=runs/predict-cls, name=exp, exist_ok=False, half=False, dnn=False, vid_stride=1\n",
      "YOLOv5 🚀 v7.0-284-g95ebf68f Python-3.9.16 torch-1.12.1+cu116 CUDA:0 (Quadro P5000, 16273MiB)\n",
      "\n",
      "Fusing layers... \n",
      "Model summary: 117 layers, 4176936 parameters, 0 gradients, 10.4 GFLOPs\n",
      "Downloading https://ultralytics.com/assets/Arial.ttf to '/root/.config/Ultralytics/Arial.ttf'...\n",
      "100%|████████████████████████████████████████| 755k/755k [00:00<00:00, 53.6MB/s]\n",
      "image 1/10 /notebooks/Test_Data/slice_15_103.jpg: 224x224 07_ADIPOSE 0.77, 05_DEBRIS 0.07, 02_STROMA 0.07, 04_LYMPHO 0.03, 08_EMPTY 0.02, 4.7ms\n",
      "image 2/10 /notebooks/Test_Data/slice_15_104.jpg: 224x224 07_ADIPOSE 0.88, 05_DEBRIS 0.03, 04_LYMPHO 0.03, 08_EMPTY 0.02, 02_STROMA 0.02, 5.7ms\n",
      "image 3/10 /notebooks/Test_Data/slice_23_100.jpg: 224x224 02_STROMA 0.48, 05_DEBRIS 0.15, 01_TUMOR 0.14, 03_COMPLEX 0.05, 07_ADIPOSE 0.05, 4.4ms\n",
      "image 4/10 /notebooks/Test_Data/slice_23_101.jpg: 224x224 02_STROMA 0.61, 05_DEBRIS 0.13, 03_COMPLEX 0.09, 01_TUMOR 0.08, 04_LYMPHO 0.04, 4.4ms\n",
      "image 5/10 /notebooks/Test_Data/slice_23_105.jpg: 224x224 07_ADIPOSE 0.93, 08_EMPTY 0.01, 02_STROMA 0.01, 05_DEBRIS 0.01, 06_MUCOSA 0.01, 4.8ms\n",
      "image 6/10 /notebooks/Test_Data/slice_25_67.jpg: 224x224 05_DEBRIS 0.41, 01_TUMOR 0.15, 07_ADIPOSE 0.13, 08_EMPTY 0.10, 02_STROMA 0.08, 5.0ms\n",
      "image 7/10 /notebooks/Test_Data/slice_25_72.jpg: 224x224 06_MUCOSA 0.41, 05_DEBRIS 0.23, 01_TUMOR 0.12, 02_STROMA 0.09, 07_ADIPOSE 0.05, 4.8ms\n",
      "image 8/10 /notebooks/Test_Data/slice_25_73.jpg: 224x224 05_DEBRIS 0.37, 06_MUCOSA 0.27, 01_TUMOR 0.18, 08_EMPTY 0.05, 04_LYMPHO 0.05, 4.8ms\n",
      "image 9/10 /notebooks/Test_Data/slice_28_90.jpg: 224x224 06_MUCOSA 0.77, 05_DEBRIS 0.09, 01_TUMOR 0.03, 08_EMPTY 0.03, 04_LYMPHO 0.03, 5.1ms\n",
      "image 10/10 /notebooks/Test_Data/slice_28_91.jpg: 224x224 06_MUCOSA 0.78, 02_STROMA 0.08, 05_DEBRIS 0.04, 01_TUMOR 0.03, 07_ADIPOSE 0.02, 4.7ms\n",
      "Speed: 0.3ms pre-process, 4.8ms inference, 0.1ms NMS per image at shape (1, 3, 224, 224)\n",
      "Results saved to \u001b[1mruns/predict-cls/exp\u001b[0m\n"
     ]
    }
   ],
   "source": [
    "!python /notebooks/yolov5/classify/predict.py  --weights /notebooks/yolov5/runs/train-cls/exp3/weights/best.pt  --img 224 --source /notebooks/Test_Data"
   ]
  },
  {
   "cell_type": "code",
   "execution_count": 3,
   "id": "a3b2a4a7-a280-43b4-a3ad-eea5830c1cd2",
   "metadata": {
    "execution": {
     "iopub.execute_input": "2023-10-06T05:56:59.076745Z",
     "iopub.status.busy": "2023-10-06T05:56:59.075878Z",
     "iopub.status.idle": "2023-10-06T05:57:12.943004Z",
     "shell.execute_reply": "2023-10-06T05:57:12.942335Z",
     "shell.execute_reply.started": "2023-10-06T05:56:59.076718Z"
    }
   },
   "outputs": [
    {
     "name": "stdout",
     "output_type": "stream",
     "text": [
      "\u001b[34m\u001b[1mclassify/predict: \u001b[0mweights=['/notebooks/yolov5/runs/train-cls/exp3/weights/best.pt'], source=/notebooks/Test_Data, data=yolov5/data/coco128.yaml, imgsz=[224, 224], device=, view_img=False, save_txt=False, nosave=False, augment=False, visualize=False, update=False, project=yolov5/runs/predict-cls, name=exp, exist_ok=False, half=False, dnn=False, vid_stride=1\n",
      "YOLOv5 🚀 v7.0-215-ga6659d0 Python-3.9.16 torch-1.12.1+cu116 CUDA:0 (NVIDIA RTX A4000, 16109MiB)\n",
      "\n",
      "Fusing layers... \n",
      "Model summary: 117 layers, 4176936 parameters, 0 gradients, 10.4 GFLOPs\n",
      "Downloading https://ultralytics.com/assets/Arial.ttf to '/root/.config/Ultralytics/Arial.ttf'...\n",
      "100%|█████████████████████████████████████████| 755k/755k [00:00<00:00, 120MB/s]\n",
      "image 1/10 /notebooks/Test_Data/slice_15_103.jpg: 224x224 07_ADIPOSE 0.78, 05_DEBRIS 0.08, 02_STROMA 0.05, 03_COMPLEX 0.03, 04_LYMPHO 0.02, 3.0ms\n",
      "image 2/10 /notebooks/Test_Data/slice_15_104.jpg: 224x224 07_ADIPOSE 0.85, 01_TUMOR 0.03, 05_DEBRIS 0.03, 03_COMPLEX 0.02, 04_LYMPHO 0.02, 3.4ms\n",
      "image 3/10 /notebooks/Test_Data/slice_23_100.jpg: 224x224 01_TUMOR 0.32, 03_COMPLEX 0.19, 06_MUCOSA 0.16, 05_DEBRIS 0.12, 07_ADIPOSE 0.08, 2.9ms\n",
      "image 4/10 /notebooks/Test_Data/slice_23_101.jpg: 224x224 02_STROMA 0.32, 05_DEBRIS 0.22, 01_TUMOR 0.16, 03_COMPLEX 0.16, 06_MUCOSA 0.06, 2.8ms\n",
      "image 5/10 /notebooks/Test_Data/slice_23_105.jpg: 224x224 07_ADIPOSE 0.91, 01_TUMOR 0.02, 04_LYMPHO 0.02, 02_STROMA 0.02, 03_COMPLEX 0.01, 2.8ms\n",
      "image 6/10 /notebooks/Test_Data/slice_25_67.jpg: 224x224 01_TUMOR 0.64, 07_ADIPOSE 0.10, 08_EMPTY 0.07, 06_MUCOSA 0.06, 05_DEBRIS 0.05, 3.0ms\n",
      "image 7/10 /notebooks/Test_Data/slice_25_72.jpg: 224x224 06_MUCOSA 0.75, 07_ADIPOSE 0.08, 01_TUMOR 0.04, 03_COMPLEX 0.04, 08_EMPTY 0.03, 2.8ms\n",
      "image 8/10 /notebooks/Test_Data/slice_25_73.jpg: 224x224 05_DEBRIS 0.32, 06_MUCOSA 0.23, 01_TUMOR 0.16, 03_COMPLEX 0.13, 02_STROMA 0.05, 3.0ms\n",
      "image 9/10 /notebooks/Test_Data/slice_28_90.jpg: 224x224 06_MUCOSA 0.84, 07_ADIPOSE 0.05, 05_DEBRIS 0.03, 01_TUMOR 0.02, 02_STROMA 0.02, 2.8ms\n",
      "image 10/10 /notebooks/Test_Data/slice_28_91.jpg: 224x224 06_MUCOSA 0.84, 01_TUMOR 0.05, 07_ADIPOSE 0.05, 08_EMPTY 0.01, 03_COMPLEX 0.01, 3.1ms\n",
      "Speed: 0.2ms pre-process, 3.0ms inference, 0.0ms NMS per image at shape (1, 3, 224, 224)\n",
      "Results saved to \u001b[1myolov5/runs/predict-cls/exp3\u001b[0m\n"
     ]
    }
   ],
   "source": [
    "!python /notebooks/yolov5/classify/predict.py  --weights /notebooks/yolov5/runs/train-cls/exp3/weights/best.pt --img 224 --source /notebooks/Test_Data | tee predictions.txt | grep 'image' | sed 's/image \\([0-9]*\\)\\/[0-9]* \\(.*\\): 224x224 \\(.*\\), \\(.*\\), \\(.*\\), \\(.*\\), \\(.*\\), \\(.*\\)ms/\\1,\\2,\\3,\\4,\\5,\\6,\\7/' > predictions.csv\n"
   ]
  }
 ],
 "metadata": {
  "kernelspec": {
   "display_name": "Python 3 (ipykernel)",
   "language": "python",
   "name": "python3"
  },
  "language_info": {
   "codemirror_mode": {
    "name": "ipython",
    "version": 3
   },
   "file_extension": ".py",
   "mimetype": "text/x-python",
   "name": "python",
   "nbconvert_exporter": "python",
   "pygments_lexer": "ipython3",
   "version": "3.9.16"
  }
 },
 "nbformat": 4,
 "nbformat_minor": 5
}
